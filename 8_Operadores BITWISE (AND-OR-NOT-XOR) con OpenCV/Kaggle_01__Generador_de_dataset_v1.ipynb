{
  "nbformat": 4,
  "nbformat_minor": 0,
  "metadata": {
    "colab": {
      "provenance": []
    },
    "kernelspec": {
      "name": "python3",
      "display_name": "Python 3"
    },
    "language_info": {
      "name": "python"
    },
    "widgets": {
      "application/vnd.jupyter.widget-state+json": {
        "758c80db2ba74b569857d1b2ea64eba9": {
          "model_module": "@jupyter-widgets/controls",
          "model_name": "ButtonModel",
          "model_module_version": "1.5.0",
          "state": {
            "_dom_classes": [],
            "_model_module": "@jupyter-widgets/controls",
            "_model_module_version": "1.5.0",
            "_model_name": "ButtonModel",
            "_view_count": null,
            "_view_module": "@jupyter-widgets/controls",
            "_view_module_version": "1.5.0",
            "_view_name": "ButtonView",
            "button_style": "",
            "description": "Generar DataSet",
            "disabled": false,
            "icon": "",
            "layout": "IPY_MODEL_8b270b44837d48b5a95ec08e2f58b9d2",
            "style": "IPY_MODEL_660fb0f189da41a19f0d6b6172831216",
            "tooltip": ""
          }
        },
        "8b270b44837d48b5a95ec08e2f58b9d2": {
          "model_module": "@jupyter-widgets/base",
          "model_name": "LayoutModel",
          "model_module_version": "1.2.0",
          "state": {
            "_model_module": "@jupyter-widgets/base",
            "_model_module_version": "1.2.0",
            "_model_name": "LayoutModel",
            "_view_count": null,
            "_view_module": "@jupyter-widgets/base",
            "_view_module_version": "1.2.0",
            "_view_name": "LayoutView",
            "align_content": null,
            "align_items": null,
            "align_self": null,
            "border": null,
            "bottom": null,
            "display": null,
            "flex": null,
            "flex_flow": null,
            "grid_area": null,
            "grid_auto_columns": null,
            "grid_auto_flow": null,
            "grid_auto_rows": null,
            "grid_column": null,
            "grid_gap": null,
            "grid_row": null,
            "grid_template_areas": null,
            "grid_template_columns": null,
            "grid_template_rows": null,
            "height": null,
            "justify_content": null,
            "justify_items": null,
            "left": null,
            "margin": null,
            "max_height": null,
            "max_width": null,
            "min_height": null,
            "min_width": null,
            "object_fit": null,
            "object_position": null,
            "order": null,
            "overflow": null,
            "overflow_x": null,
            "overflow_y": null,
            "padding": null,
            "right": null,
            "top": null,
            "visibility": null,
            "width": null
          }
        },
        "660fb0f189da41a19f0d6b6172831216": {
          "model_module": "@jupyter-widgets/controls",
          "model_name": "ButtonStyleModel",
          "model_module_version": "1.5.0",
          "state": {
            "_model_module": "@jupyter-widgets/controls",
            "_model_module_version": "1.5.0",
            "_model_name": "ButtonStyleModel",
            "_view_count": null,
            "_view_module": "@jupyter-widgets/base",
            "_view_module_version": "1.2.0",
            "_view_name": "StyleView",
            "button_color": null,
            "font_weight": ""
          }
        },
        "49acfe45d06c45e79247224dfd947de6": {
          "model_module": "@jupyter-widgets/output",
          "model_name": "OutputModel",
          "model_module_version": "1.0.0",
          "state": {
            "_dom_classes": [],
            "_model_module": "@jupyter-widgets/output",
            "_model_module_version": "1.0.0",
            "_model_name": "OutputModel",
            "_view_count": null,
            "_view_module": "@jupyter-widgets/output",
            "_view_module_version": "1.0.0",
            "_view_name": "OutputView",
            "layout": "IPY_MODEL_cbc897700f934d4c892c8500327677e4",
            "msg_id": "",
            "outputs": [
              {
                "output_type": "stream",
                "name": "stdout",
                "text": [
                  "\n",
                  " Generando el los datos de train.\n",
                  "El total de imágenenes para train es:  30000 \n",
                  "\n",
                  "Se ha creado el directorio 'formas_2023-07-02_06-15'.\n"
                ]
              },
              {
                "output_type": "stream",
                "name": "stdout",
                "text": [
                  "Progreso: [==                  ] 10.0%\n"
                ]
              },
              {
                "output_type": "stream",
                "name": "stdout",
                "text": [
                  "Progreso: [====                ] 20.0%\n"
                ]
              },
              {
                "output_type": "stream",
                "name": "stdout",
                "text": [
                  "Progreso: [========            ] 40.0%\n"
                ]
              },
              {
                "output_type": "stream",
                "name": "stdout",
                "text": [
                  "Progreso: [================    ] 80.0%\n"
                ]
              },
              {
                "output_type": "stream",
                "name": "stdout",
                "text": [
                  "Progreso: [====================] 100.0%\n"
                ]
              },
              {
                "output_type": "stream",
                "name": "stdout",
                "text": [
                  "Progreso: [==                  ] 10.0%\n"
                ]
              },
              {
                "output_type": "stream",
                "name": "stdout",
                "text": [
                  "Progreso: [====                ] 20.0%\n"
                ]
              },
              {
                "output_type": "stream",
                "name": "stdout",
                "text": [
                  "Progreso: [========            ] 40.0%\n"
                ]
              },
              {
                "output_type": "stream",
                "name": "stdout",
                "text": [
                  "Progreso: [================    ] 80.0%\n"
                ]
              },
              {
                "output_type": "stream",
                "name": "stdout",
                "text": [
                  "Progreso: [====================] 100.0%\n"
                ]
              },
              {
                "output_type": "stream",
                "name": "stdout",
                "text": [
                  "Progreso: [==                  ] 10.0%\n"
                ]
              },
              {
                "output_type": "stream",
                "name": "stdout",
                "text": [
                  "Progreso: [====                ] 20.0%\n"
                ]
              },
              {
                "output_type": "stream",
                "name": "stdout",
                "text": [
                  "Progreso: [========            ] 40.0%\n"
                ]
              },
              {
                "output_type": "stream",
                "name": "stdout",
                "text": [
                  "Progreso: [================    ] 80.0%\n"
                ]
              },
              {
                "output_type": "stream",
                "name": "stdout",
                "text": [
                  "Progreso: [====================] 100.0%\n"
                ]
              },
              {
                "output_type": "stream",
                "name": "stdout",
                "text": [
                  "Progreso: [==                  ] 10.0%\n",
                  "Progreso: [====                ] 20.0%\n"
                ]
              },
              {
                "output_type": "stream",
                "name": "stdout",
                "text": [
                  "Progreso: [========            ] 40.0%\n"
                ]
              },
              {
                "output_type": "stream",
                "name": "stdout",
                "text": [
                  "Progreso: [================    ] 80.0%\n"
                ]
              },
              {
                "output_type": "stream",
                "name": "stdout",
                "text": [
                  "Progreso: [====================] 100.0%\n",
                  "\n",
                  " Generando el los datos de test.\n",
                  "El total de imágenenes para test es:  10000 \n",
                  "\n",
                  "Se ha creado el directorio 'formas_2023-07-02_06-15'.\n"
                ]
              },
              {
                "output_type": "stream",
                "name": "stdout",
                "text": [
                  "Progreso: [==                  ] 10.0%\n"
                ]
              },
              {
                "output_type": "stream",
                "name": "stdout",
                "text": [
                  "Progreso: [====                ] 20.0%\n"
                ]
              },
              {
                "output_type": "stream",
                "name": "stdout",
                "text": [
                  "Progreso: [========            ] 40.0%\n"
                ]
              },
              {
                "output_type": "stream",
                "name": "stdout",
                "text": [
                  "Progreso: [================    ] 80.0%\n"
                ]
              },
              {
                "output_type": "stream",
                "name": "stdout",
                "text": [
                  "Progreso: [====================] 100.0%\n"
                ]
              },
              {
                "output_type": "stream",
                "name": "stdout",
                "text": [
                  "Progreso: [==                  ] 10.0%\n"
                ]
              },
              {
                "output_type": "stream",
                "name": "stdout",
                "text": [
                  "Progreso: [====                ] 20.0%\n"
                ]
              },
              {
                "output_type": "stream",
                "name": "stdout",
                "text": [
                  "Progreso: [========            ] 40.0%\n"
                ]
              },
              {
                "output_type": "stream",
                "name": "stdout",
                "text": [
                  "Progreso: [================    ] 80.0%\n"
                ]
              },
              {
                "output_type": "stream",
                "name": "stdout",
                "text": [
                  "Progreso: [====================] 100.0%\n"
                ]
              },
              {
                "output_type": "stream",
                "name": "stdout",
                "text": [
                  "Progreso: [==                  ] 10.0%\n"
                ]
              },
              {
                "output_type": "stream",
                "name": "stdout",
                "text": [
                  "Progreso: [====                ] 20.0%\n"
                ]
              },
              {
                "output_type": "stream",
                "name": "stdout",
                "text": [
                  "Progreso: [========            ] 40.0%\n"
                ]
              },
              {
                "output_type": "stream",
                "name": "stdout",
                "text": [
                  "Progreso: [================    ] 80.0%\n"
                ]
              },
              {
                "output_type": "stream",
                "name": "stdout",
                "text": [
                  "Progreso: [====================] 100.0%\n"
                ]
              },
              {
                "output_type": "stream",
                "name": "stdout",
                "text": [
                  "Progreso: [==                  ] 10.0%\n"
                ]
              },
              {
                "output_type": "stream",
                "name": "stdout",
                "text": [
                  "Progreso: [====                ] 20.0%\n"
                ]
              },
              {
                "output_type": "stream",
                "name": "stdout",
                "text": [
                  "Progreso: [========            ] 40.0%\n"
                ]
              },
              {
                "output_type": "stream",
                "name": "stdout",
                "text": [
                  "Progreso: [================    ] 80.0%\n"
                ]
              },
              {
                "output_type": "stream",
                "name": "stdout",
                "text": [
                  "Progreso: [====================] 100.0%\n",
                  "\n",
                  "Preparando la descarga\n"
                ]
              },
              {
                "output_type": "stream",
                "name": "stdout",
                "text": [
                  "Archivo generado correctamente: formas_2023-07-02_06-15.zip\n"
                ]
              },
              {
                "output_type": "display_data",
                "data": {
                  "text/plain": "<IPython.core.display.Javascript object>",
                  "application/javascript": "\n    async function download(id, filename, size) {\n      if (!google.colab.kernel.accessAllowed) {\n        return;\n      }\n      const div = document.createElement('div');\n      const label = document.createElement('label');\n      label.textContent = `Downloading \"${filename}\": `;\n      div.appendChild(label);\n      const progress = document.createElement('progress');\n      progress.max = size;\n      div.appendChild(progress);\n      document.body.appendChild(div);\n\n      const buffers = [];\n      let downloaded = 0;\n\n      const channel = await google.colab.kernel.comms.open(id);\n      // Send a message to notify the kernel that we're ready.\n      channel.send({})\n\n      for await (const message of channel.messages) {\n        // Send a message to notify the kernel that we're ready.\n        channel.send({})\n        if (message.buffers) {\n          for (const buffer of message.buffers) {\n            buffers.push(buffer);\n            downloaded += buffer.byteLength;\n            progress.value = downloaded;\n          }\n        }\n      }\n      const blob = new Blob(buffers, {type: 'application/binary'});\n      const a = document.createElement('a');\n      a.href = window.URL.createObjectURL(blob);\n      a.download = filename;\n      div.appendChild(a);\n      a.click();\n      div.remove();\n    }\n  "
                },
                "metadata": {}
              },
              {
                "output_type": "display_data",
                "data": {
                  "text/plain": "<IPython.core.display.Javascript object>",
                  "application/javascript": "download(\"download_06b2fd56-a19d-4f53-88b7-e5dd273bc829\", \"formas_2023-07-02_06-15.zip\", 87615124)"
                },
                "metadata": {}
              }
            ]
          }
        },
        "cbc897700f934d4c892c8500327677e4": {
          "model_module": "@jupyter-widgets/base",
          "model_name": "LayoutModel",
          "model_module_version": "1.2.0",
          "state": {
            "_model_module": "@jupyter-widgets/base",
            "_model_module_version": "1.2.0",
            "_model_name": "LayoutModel",
            "_view_count": null,
            "_view_module": "@jupyter-widgets/base",
            "_view_module_version": "1.2.0",
            "_view_name": "LayoutView",
            "align_content": null,
            "align_items": null,
            "align_self": null,
            "border": null,
            "bottom": null,
            "display": null,
            "flex": null,
            "flex_flow": null,
            "grid_area": null,
            "grid_auto_columns": null,
            "grid_auto_flow": null,
            "grid_auto_rows": null,
            "grid_column": null,
            "grid_gap": null,
            "grid_row": null,
            "grid_template_areas": null,
            "grid_template_columns": null,
            "grid_template_rows": null,
            "height": null,
            "justify_content": null,
            "justify_items": null,
            "left": null,
            "margin": null,
            "max_height": null,
            "max_width": null,
            "min_height": null,
            "min_width": null,
            "object_fit": null,
            "object_position": null,
            "order": null,
            "overflow": null,
            "overflow_x": null,
            "overflow_y": null,
            "padding": null,
            "right": null,
            "top": null,
            "visibility": null,
            "width": null
          }
        }
      }
    }
  },
  "cells": [
    {
      "cell_type": "markdown",
      "source": [
        "Documento elaborado por Carlos Rodríguez para su discusión en Kaggle y proponer diferentes formas de hacer las cosas. <br>\n",
        "Juntos se aprende mejor."
      ],
      "metadata": {
        "id": "AZMO9B6vahbi"
      }
    },
    {
      "cell_type": "markdown",
      "source": [
        "### Nos aseguramos de descargar y instalar los paquetes necesarios en caso de correr en Jupiter Notebook"
      ],
      "metadata": {
        "id": "au3zxZSho5bY"
      }
    },
    {
      "cell_type": "code",
      "execution_count": 6,
      "metadata": {
        "id": "TXJiX2D8r8Vq"
      },
      "outputs": [],
      "source": [
        "%%capture\n",
        "!pip install matplotlib opencv-python watermark"
      ]
    },
    {
      "cell_type": "markdown",
      "source": [
        "### Importamos lo necesario"
      ],
      "metadata": {
        "id": "fqrooqrwphLE"
      }
    },
    {
      "cell_type": "code",
      "source": [
        "# Importamos las librerías\n",
        "import cv2\n",
        "import numpy as np\n",
        "import matplotlib.pyplot as plt\n",
        "import random\n",
        "import math\n",
        "import os\n",
        "from datetime import datetime\n",
        "\n",
        "# Librerías del menú\n",
        "import ipywidgets as widgets\n",
        "from IPython.display import display\n",
        "\n",
        "# para la generacion del archivo\n",
        "from IPython.display import HTML\n",
        "from google.colab import files\n",
        "from google.colab import output\n",
        "import zipfile\n",
        "import tarfile"
      ],
      "metadata": {
        "id": "oBUKMu3RsYMD"
      },
      "execution_count": 7,
      "outputs": []
    },
    {
      "cell_type": "markdown",
      "source": [
        "### Implementamos las funciones que generan imágenes."
      ],
      "metadata": {
        "id": "yMSyKKMopkGJ"
      }
    },
    {
      "cell_type": "code",
      "source": [
        "def ra(h, low=0):\n",
        "  return np.random.randint(low=low, high=h+1)\n",
        "\n",
        "def img_rgb():\n",
        "\n",
        "    img = np.zeros((100, 100, 3), dtype=np.uint8)\n",
        "\n",
        "    # Generamos el color del fondo.\n",
        "    img[:,:,0] = ra(255)\n",
        "    img[:,:,1] = ra(255)\n",
        "    img[:,:,2] = ra(255)\n",
        "\n",
        "    # Generamos los colores de las formas.\n",
        "    r, g , b = ra(255), ra(255), ra(255)\n",
        "\n",
        "    return img , r ,g ,b\n",
        "\n",
        "def draw_equilateral_triangle():\n",
        "\n",
        "    side_length = ra(60,30)\n",
        "    img , r ,g ,b = img_rgb()\n",
        "\n",
        "    # Generar una posición aleatoria dentro del rango (0-100) para el triángulo\n",
        "    x = random.randint(10, 80 )\n",
        "    y = random.randint(10, 80 )\n",
        "\n",
        "    # Calcular las coordenadas de los vértices del triángulo\n",
        "    height = (np.sqrt(3) / 2) * side_length\n",
        "    half_side = side_length / 2\n",
        "    vertex1 = (int(x - half_side), int(y + height / 3))\n",
        "    vertex2 = (int(x + half_side), int(y + height / 3))\n",
        "    vertex3 = (int(x), int(y - (2 * height / 3)))\n",
        "\n",
        "    # Dibujar las líneas del triángulo\n",
        "    cv2.line(img, vertex1, vertex2, (r,g,b) , 2)\n",
        "    cv2.line(img, vertex2, vertex3, (r,g,b) , 2)\n",
        "    cv2.line(img, vertex3, vertex1, (r,g,b) , 2)\n",
        "\n",
        "    return img , \"triangle\"\n",
        "\n",
        "def draw_circle():\n",
        "\n",
        "    radius =ra(50,20)\n",
        "    img , r ,g ,b = img_rgb()\n",
        "\n",
        "    x = random.randint(0, 100 )\n",
        "    y = random.randint(0, 100 )\n",
        "\n",
        "    cv2.circle(img, center=(x, y), radius=radius, color=(r, g, b), thickness=2)\n",
        "\n",
        "    return img , \"circle\"\n",
        "\n",
        "def draw_line():\n",
        "\n",
        "    length = ra(50,20)\n",
        "    img , r ,g ,b = img_rgb()\n",
        "\n",
        "    x = ra(70)\n",
        "    y = ra(70)\n",
        "    angle = random.uniform(0, 2*math.pi)  # Ángulo aleatorio en radianes\n",
        "\n",
        "    # Cálculo de las coordenadas finales de la línea\n",
        "    x2 = int(x + length * math.cos(angle))\n",
        "    y2 = int(y + length * math.sin(angle))\n",
        "\n",
        "    cv2.line(img, pt1=(x, y), pt2=(x2, y2), color=(r, g, b), thickness=3)\n",
        "\n",
        "    return img, \"line\"\n",
        "\n",
        "def draw_rectangle():\n",
        "\n",
        "    img , r ,g ,b = img_rgb()\n",
        "\n",
        "    x = random.randint(0, 90 )\n",
        "    y = random.randint(0, 90 )\n",
        "\n",
        "    # Cálculo de las coordenadas finales de la línea\n",
        "    x2 = int(x + 20 + ra(30))\n",
        "    y2 = int(y + 20 + ra(30))\n",
        "\n",
        "    cv2.rectangle(img, pt1=(x, y), pt2=(x2, y2), color=(r, g, b), thickness=3)\n",
        "\n",
        "    return img , \"rectangle\"\n",
        "\n",
        "figures = [\"line\", \"rectangle\", \"circle\", \"triangle\"]"
      ],
      "metadata": {
        "id": "BX1-W-guwsik"
      },
      "execution_count": 8,
      "outputs": []
    },
    {
      "cell_type": "markdown",
      "source": [
        "# Una imagen de muestra para cada función"
      ],
      "metadata": {
        "id": "IpYFoFOAovvT"
      }
    },
    {
      "cell_type": "code",
      "source": [
        "img_1, _ = draw_equilateral_triangle()\n",
        "img_2, _  = draw_circle()\n",
        "img_3, _  = draw_line()\n",
        "img_4, _  = draw_rectangle()\n",
        "ver = np.hstack((img_1, img_2, img_3, img_4))\n",
        "\n",
        "plt.imshow(ver);"
      ],
      "metadata": {
        "colab": {
          "base_uri": "https://localhost:8080/",
          "height": 189
        },
        "id": "xbJMz88Nsmh3",
        "outputId": "d05e2cb0-d990-4257-bd0a-edcdeaf047a7"
      },
      "execution_count": 9,
      "outputs": [
        {
          "output_type": "display_data",
          "data": {
            "text/plain": [
              "<Figure size 640x480 with 1 Axes>"
            ],
            "image/png": "[encoded data removed]"
          },
          "metadata": {}
        }
      ]
    },
    {
      "cell_type": "markdown",
      "source": [
        "# Creado el Dataset.\n",
        "\n",
        "Vamos a crear una interface para generar diferetnes tipos de DataSets."
      ],
      "metadata": {
        "id": "bH1NNFUGgaRz"
      }
    },
    {
      "cell_type": "code",
      "source": [
        "#@markdown Configuración general.\n",
        "#@markdown ---\n",
        "\n",
        "triangulos= True #@param {type:\"boolean\"}\n",
        "circulos = True #@param {type:\"boolean\"}\n",
        "lineas  = True #@param {type:\"boolean\"}\n",
        "rectangulos = True #@param {type:\"boolean\"}\n",
        "\n",
        "cantidad_train = 30000 #@param {type:\"integer\"}\n",
        "cantidad_test = 10000 #@param {type:\"integer\"}\n",
        "\n",
        "#@markdown Configuración archivo de salida.\n",
        "#@markdown ---\n",
        "\n",
        "nombe_dataset = 'formas' #@param {type:\"string\"}\n",
        "#@markdown Agregamos la fecha al archivo de salida?\n",
        "fecha_hora = True #@param {type:\"boolean\"}\n",
        "#@markdown Formato ?\n",
        "extension = '.zip' #@param [\".zip\", \".tar\", \".gz\"]\n",
        "\n",
        "\n",
        "args = [triangulos,       # 0\n",
        "        circulos,         # 1\n",
        "        lineas,           # 2\n",
        "        rectangulos,      # 3\n",
        "        rectangulos,      # 4\n",
        "        cantidad_train,   # 5\n",
        "        cantidad_test,    # 6\n",
        "        nombe_dataset,    # 7\n",
        "        fecha_hora,       # 8\n",
        "        extension]        # 9\n",
        "\n",
        "\n",
        "button = widgets.Button(description=\"Generar DataSet\")\n",
        "output = widgets.Output()\n",
        "\n",
        "def agregar_funciones_a_lista(funciones, *args):\n",
        "    lista_funciones = []\n",
        "    for i in range(len(args)):\n",
        "        if args[i]:\n",
        "            lista_funciones.append(funciones[i])\n",
        "    return lista_funciones\n",
        "\n",
        "def generar_y_guardar(args, modo):\n",
        "\n",
        "    # Calculando cantidades de train y test.\n",
        "    total_imagenes_train = args[5]\n",
        "    total_imagenes_test = args[6]\n",
        "\n",
        "    if modo == \"train\":\n",
        "      print('\\n',\"Generando el los datos de train.\")\n",
        "      print(\"El total de imágenenes para train es: \" , total_imagenes_train, '\\n')\n",
        "    else:\n",
        "      print('\\n',\"Generando el los datos de test.\")\n",
        "      print(\"El total de imágenenes para test es: \" , total_imagenes_test, '\\n')\n",
        "\n",
        "    # Verificamos si queremos incluir fecha al dataset\n",
        "    if args[8] == True:\n",
        "      now = datetime.now()\n",
        "      fecha_hora = str(now.strftime(\"%Y-%m-%d_%H-%M\"))\n",
        "      nombre_dir = args[7]+\"_\"+fecha_hora\n",
        "    else:\n",
        "      nombre_dir = args[7]\n",
        "\n",
        "    # Creamos el directorio principal\n",
        "    try:\n",
        "        os.makedirs(nombre_dir, exist_ok=True)\n",
        "        print(f\"Se ha creado el directorio '{nombre_dir}'.\")\n",
        "    except OSError as error:\n",
        "        print(f\"No se pudo crear el directorio '{nombre_dir}': {error}\")\n",
        "\n",
        "\n",
        "    # Vemos que imágenes se deben generar.\n",
        "    funciones = [draw_equilateral_triangle, draw_circle, draw_line,draw_rectangle]\n",
        "    booleanos = [args[0],args[1],args[2],args[3]]\n",
        "    funciones_agregadas = agregar_funciones_a_lista(funciones, *booleanos)\n",
        "\n",
        "    cantidad_categorias = len(funciones_agregadas)\n",
        "\n",
        "    # Generamos las imágenes de train para cada categoía seleccionada.\n",
        "    for i in range(cantidad_categorias):\n",
        "\n",
        "        cantidad_por_categoria = int(total_imagenes_train/cantidad_categorias)\n",
        "\n",
        "        for n in range(cantidad_por_categoria):\n",
        "\n",
        "          # Generando la imagen\n",
        "          img, tipo  = funciones_agregadas[i]()\n",
        "\n",
        "          # Guardar la imagen en el directorio especificado\n",
        "          # Directorio de destino de la imagen\n",
        "          directorio = nombre_dir+'/'+modo+'/'+ tipo\n",
        "          # Crear directorios si no existen\n",
        "          os.makedirs(directorio, exist_ok=True)\n",
        "          ruta_guardado = os.path.join(directorio, tipo+str(n)+'.jpg')\n",
        "          cv2.imwrite(ruta_guardado, img)\n",
        "\n",
        "\n",
        "          # ---- Mostrando el datos ---------------------------------------------\n",
        "          # Calcular el progreso actual\n",
        "          progreso = (n + 1) / cantidad_por_categoria\n",
        "          # Verificar si el progreso es un incremento de 10%\n",
        "          if progreso % 0.1 == 0:\n",
        "              # Calcular el número de caracteres iguales en la barra de carga\n",
        "              num_caracteres = int(progreso * 20)\n",
        "              # Construir la barra de carga\n",
        "              barra = \"[\" + \"=\" * num_caracteres + \" \" * (20 - num_caracteres) + \"]\"\n",
        "              # Imprimir la barra de carga\n",
        "              print(f\"Progreso: {barra} {progreso*100:.1f}%\")\n",
        "\n",
        "\n",
        "        # Imprimir el 100% de progreso\n",
        "        print(\"Progreso: [====================] 100.0%\")\n",
        "\n",
        "def generar_archivo(args):\n",
        "    print('\\nPreparando la descarga')\n",
        "\n",
        "    if args[8] == True:\n",
        "        now = datetime.now()\n",
        "        fecha_hora = str(now.strftime(\"%Y-%m-%d_%H-%M\"))\n",
        "        nombre_dir = args[7] + \"_\" + fecha_hora\n",
        "    else:\n",
        "        nombre_dir = args[7]\n",
        "\n",
        "    extension = args[9]\n",
        "\n",
        "    directorio = nombre_dir  # Ruta completa del directorio a comprimir\n",
        "\n",
        "    if extension == '.zip':\n",
        "        archivo = nombre_dir + '.zip'\n",
        "        with zipfile.ZipFile(archivo, 'w', zipfile.ZIP_DEFLATED) as zipf:\n",
        "            # Recorrer los archivos y carpetas dentro del directorio\n",
        "            for root, _, files in os.walk(directorio):\n",
        "                for file in files:\n",
        "                    # Ruta completa del archivo\n",
        "                    archivo_completo = os.path.join(root, file)\n",
        "                    # Ruta relativa dentro del directorio a comprimir\n",
        "                    ruta_relativa = os.path.relpath(archivo_completo, directorio)\n",
        "                    # Agregar el archivo al ZIP con su ruta relativa\n",
        "                    zipf.write(archivo_completo, arcname=ruta_relativa)\n",
        "    elif extension == '.tar':\n",
        "        archivo = nombre_dir + '.tar'\n",
        "        with tarfile.open(archivo, 'w') as tar:\n",
        "            tar.add(directorio)\n",
        "    elif extension == '.gz':\n",
        "        archivo = nombre_dir + '.tar.gz'\n",
        "        with tarfile.open(archivo, 'w:gz') as tar:\n",
        "            tar.add(directorio)\n",
        "\n",
        "    # Verificar si el archivo se ha generado correctamente\n",
        "    if os.path.isfile(archivo):\n",
        "        print('Archivo generado correctamente:', archivo)\n",
        "    else:\n",
        "        print('No se pudo generar el archivo.')\n",
        "\n",
        "\n",
        "    # Descargar el archivo\n",
        "    from google.colab import files # por algúna razon si lo saco de aca no anda..\n",
        "    files.download(archivo)\n",
        "    '''\n",
        "    # Generar el enlace\n",
        "    nombre_enlace = 'Descargar archivo'\n",
        "    enlace = f'<a href=\"{archivo}\" download=\"{archivo}\">{nombre_enlace}</a>'\n",
        "    # Renderizar el enlace como HTML\n",
        "    display(HTML(enlace))\n",
        "    '''\n",
        "\n",
        "def on_button_clicked(button_event, args):\n",
        "  # Display the message within the output widget.\n",
        "  with output:\n",
        "    generar_y_guardar(args, \"train\")\n",
        "    generar_y_guardar(args, \"test\")\n",
        "    generar_archivo(args)\n",
        "\n",
        "\n",
        "\n",
        "button.on_click(lambda event: on_button_clicked(event, args))\n",
        "display(button, output)"
      ],
      "metadata": {
        "colab": {
          "base_uri": "https://localhost:8080/",
          "height": 994,
          "referenced_widgets": [
            "758c80db2ba74b569857d1b2ea64eba9",
            "8b270b44837d48b5a95ec08e2f58b9d2",
            "660fb0f189da41a19f0d6b6172831216",
            "49acfe45d06c45e79247224dfd947de6",
            "cbc897700f934d4c892c8500327677e4"
          ]
        },
        "id": "H3XdD6qegZdP",
        "outputId": "ec19f82b-a744-4bc7-f389-cac6fbedee91",
        "cellView": "form"
      },
      "execution_count": 10,
      "outputs": [
        {
          "output_type": "display_data",
          "data": {
            "text/plain": [
              "Button(description='Generar DataSet', style=ButtonStyle())"
            ],
            "application/vnd.jupyter.widget-view+json": {
              "version_major": 2,
              "version_minor": 0,
              "model_id": "758c80db2ba74b569857d1b2ea64eba9"
            }
          },
          "metadata": {}
        },
        {
          "output_type": "display_data",
          "data": {
            "text/plain": [
              "Output()"
            ],
            "application/vnd.jupyter.widget-view+json": {
              "version_major": 2,
              "version_minor": 0,
              "model_id": "49acfe45d06c45e79247224dfd947de6"
            }
          },
          "metadata": {}
        }
      ]
    },
    {
      "cell_type": "markdown",
      "source": [
        "<br><br><br><br><br>"
      ],
      "metadata": {
        "id": "ie28-RiqNudj"
      }
    },
    {
      "cell_type": "markdown",
      "source": [
        "### En caso de querer borrar todo"
      ],
      "metadata": {
        "id": "peuQqRkyNmYv"
      }
    },
    {
      "cell_type": "code",
      "source": [
        "import os,shutil\n",
        "\n",
        "# Obtener la ruta de la carpeta actual\n",
        "ruta_actual = os.getcwd()\n",
        "\n",
        "# Listar todos los elementos de la carpeta actual\n",
        "elementos = os.listdir(ruta_actual)\n",
        "\n",
        "print(elementos)\n",
        "\n",
        "for elemento in elementos:\n",
        "    ruta_elemento = os.path.join(ruta_actual, elemento)\n",
        "    if os.path.isfile(ruta_elemento):\n",
        "        os.remove(ruta_elemento)\n",
        "        print(f\"Archivo '{elemento}' eliminado.\")\n",
        "    elif os.path.isdir(ruta_elemento):\n",
        "        shutil.rmtree(ruta_elemento)\n",
        "        print(f\"Carpeta '{elemento}' eliminada.\")"
      ],
      "metadata": {
        "id": "yxlhkwrhvk6g",
        "colab": {
          "base_uri": "https://localhost:8080/"
        },
        "outputId": "00b2876c-31dd-4973-bc83-b145f8e17b38"
      },
      "execution_count": 11,
      "outputs": [
        {
          "output_type": "stream",
          "name": "stdout",
          "text": [
            "['formas_2023-07-02_06-15', 'formas_2023-07-02_06-15.zip']\n",
            "Carpeta 'formas_2023-07-02_06-15' eliminada.\n",
            "Archivo 'formas_2023-07-02_06-15.zip' eliminado.\n"
          ]
        }
      ]
    }
  ]
}